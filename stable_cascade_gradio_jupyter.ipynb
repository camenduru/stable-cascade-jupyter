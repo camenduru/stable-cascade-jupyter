{
  "cells": [
    {
      "cell_type": "markdown",
      "metadata": {
        "id": "view-in-github"
      },
      "source": [
        "[![Open In Colab](https://colab.research.google.com/assets/colab-badge.svg)](https://colab.research.google.com/github/camenduru/stable-cascade-jupyter/blob/main/stable_cascade_gradio_jupyter.ipynb)"
      ]
    },
    {
      "cell_type": "code",
      "execution_count": null,
      "metadata": {
        "id": "VjYy0F2gZIPR"
      },
      "outputs": [],
      "source": [
        "%cd /content\n",
        "!git clone -b dev https://github.com/camenduru/stable-cascade-hf\n",
        "%cd /content/stable-cascade-hf\n",
        "\n",
        "!wget https://huggingface.co/spaces/multimodalart/stable-cascade/resolve/main/previewer/previewer_v1_100k.pt -O /content/stable-cascade-hf/previewer/previewer_v1_100k.pt\n",
        "!wget https://huggingface.co/spaces/multimodalart/stable-cascade/resolve/main/previewer/text2img_wurstchen_b_v1_previewer_100k.pt -O /content/stable-cascade-hf/previewer/text2img_wurstchen_b_v1_previewer_100k.pt\n",
        "\n",
        "!pip install -q git+https://github.com/kashif/diffusers.git@diffusers-yield-callback\n",
        "!pip install -q gradio accelerate\n",
        "\n",
        "!python app.py"
      ]
    }
  ],
  "metadata": {
    "accelerator": "GPU",
    "colab": {
      "gpuType": "T4",
      "provenance": []
    },
    "kernelspec": {
      "display_name": "Python 3",
      "name": "python3"
    },
    "language_info": {
      "name": "python"
    }
  },
  "nbformat": 4,
  "nbformat_minor": 0
}
