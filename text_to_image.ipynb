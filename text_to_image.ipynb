{
  "cells": [
    {
      "cell_type": "markdown",
      "metadata": {
        "id": "view-in-github"
      },
      "source": [
        "[![Open In Colab](https://colab.research.google.com/assets/colab-badge.svg)](https://colab.research.google.com/github/camenduru/stable-cascade-jupyter/blob/main/text_to_image.ipynb)"
      ]
    },
    {
      "cell_type": "code",
      "execution_count": null,
      "metadata": {
        "id": "VjYy0F2gZIPR"
      },
      "outputs": [],
      "source": [
        "%cd /content\n",
        "!git clone https://github.com/Stability-AI/StableCascade\n",
        "%cd /content/StableCascade\n",
        "\n",
        "!pip install -q wandb munch kornia insightface onnxruntime einops onnx2torch webdataset accelerate\n",
        "!pip install -q git+https://github.com/ildoonet/pytorch-gradual-warmup-lr\n",
        "!pip install -q git+https://github.com/pabloppp/pytorch-tools\n",
        "\n",
        "!bash /content/StableCascade/models/download_models.sh essential small-small float32 "
      ]
    },
    {
      "cell_type": "code",
      "execution_count": null,
      "metadata": {},
      "outputs": [],
      "source": [
        "import os\n",
        "import yaml\n",
        "import torch\n",
        "from tqdm import tqdm\n",
        "\n",
        "from inference.utils import *\n",
        "from core.utils import load_or_fail\n",
        "from train import WurstCoreC, WurstCoreB\n",
        "\n",
        "device = torch.device(\"cuda:0\" if torch.cuda.is_available() else \"cpu\")\n",
        "print(device)\n",
        "\n",
        "# SETUP STAGE C\n",
        "config_file = 'configs/inference/stage_c_3b.yaml'\n",
        "with open(config_file, \"r\", encoding=\"utf-8\") as file:\n",
        "    loaded_config = yaml.safe_load(file)\n",
        "\n",
        "core = WurstCoreC(config_dict=loaded_config, device=device, training=False)\n",
        "\n",
        "# SETUP STAGE B\n",
        "config_file_b = 'configs/inference/stage_b_3b.yaml'\n",
        "with open(config_file_b, \"r\", encoding=\"utf-8\") as file:\n",
        "    config_file_b = yaml.safe_load(file)\n",
        "    \n",
        "core_b = WurstCoreB(config_dict=config_file_b, device=device, training=False)\n",
        "\n",
        "# SETUP MODELS & DATA\n",
        "extras = core.setup_extras_pre()\n",
        "models = core.setup_models(extras)\n",
        "models.generator.eval().requires_grad_(False)\n",
        "print(\"STAGE C READY\")\n",
        "\n",
        "extras_b = core_b.setup_extras_pre()\n",
        "models_b = core_b.setup_models(extras_b, skip_clip=True)\n",
        "models_b = WurstCoreB.Models(\n",
        "   **{**models_b.to_dict(), 'tokenizer': models.tokenizer, 'text_model': models.text_model}\n",
        ")\n",
        "models_b.generator.bfloat16().eval().requires_grad_(False)\n",
        "print(\"STAGE B READY\")\n",
        "\n",
        "models = WurstCoreC.Models(\n",
        "   **{**models.to_dict(), 'generator': torch.compile(models.generator, mode=\"reduce-overhead\", fullgraph=True)}\n",
        ")\n",
        "\n",
        "models_b = WurstCoreB.Models(\n",
        "   **{**models_b.to_dict(), 'generator': torch.compile(models_b.generator, mode=\"reduce-overhead\", fullgraph=True)}\n",
        ")"
      ]
    }
  ],
  "metadata": {
    "accelerator": "GPU",
    "colab": {
      "gpuType": "T4",
      "provenance": []
    },
    "kernelspec": {
      "display_name": "Python 3",
      "name": "python3"
    },
    "language_info": {
      "name": "python"
    }
  },
  "nbformat": 4,
  "nbformat_minor": 0
}
